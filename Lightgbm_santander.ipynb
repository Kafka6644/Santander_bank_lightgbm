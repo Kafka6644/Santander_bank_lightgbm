{
 "cells": [
  {
   "cell_type": "code",
   "execution_count": 1,
   "id": "e7109ace",
   "metadata": {
    "_cell_guid": "b1076dfc-b9ad-4769-8c92-a6c4dae69d19",
    "_uuid": "8f2839f25d086af736a60e9eeb907d3b93b6e0e5",
    "execution": {
     "iopub.execute_input": "2024-03-15T21:08:23.903474Z",
     "iopub.status.busy": "2024-03-15T21:08:23.902999Z",
     "iopub.status.idle": "2024-03-15T21:08:24.988797Z",
     "shell.execute_reply": "2024-03-15T21:08:24.987408Z"
    },
    "papermill": {
     "duration": 1.097406,
     "end_time": "2024-03-15T21:08:24.991245",
     "exception": false,
     "start_time": "2024-03-15T21:08:23.893839",
     "status": "completed"
    },
    "tags": []
   },
   "outputs": [
    {
     "name": "stdout",
     "output_type": "stream",
     "text": [
      "/kaggle/input/santander-customer-transaction-prediction-dataset/train.csv\n",
      "/kaggle/input/santander-customer-transaction-prediction-dataset/test.csv\n"
     ]
    }
   ],
   "source": [
    "# This Python 3 environment comes with many helpful analytics libraries installed\n",
    "# It is defined by the kaggle/python Docker image: https://github.com/kaggle/docker-python\n",
    "# For example, here's several helpful packages to load\n",
    "\n",
    "import numpy as np # linear algebra\n",
    "import pandas as pd # data processing, CSV file I/O (e.g. pd.read_csv)\n",
    "\n",
    "# Input data files are available in the read-only \"../input/\" directory\n",
    "# For example, running this (by clicking run or pressing Shift+Enter) will list all files under the input directory\n",
    "\n",
    "import os\n",
    "for dirname, _, filenames in os.walk('/kaggle/input'):\n",
    "    for filename in filenames:\n",
    "        print(os.path.join(dirname, filename))\n",
    "\n",
    "# You can write up to 20GB to the current directory (/kaggle/working/) that gets preserved as output when you create a version using \"Save & Run All\" \n",
    "# You can also write temporary files to /kaggle/temp/, but they won't be saved outside of the current session"
   ]
  },
  {
   "cell_type": "code",
   "execution_count": 2,
   "id": "6dda6224",
   "metadata": {
    "execution": {
     "iopub.execute_input": "2024-03-15T21:08:25.006018Z",
     "iopub.status.busy": "2024-03-15T21:08:25.005472Z",
     "iopub.status.idle": "2024-03-15T21:08:36.765620Z",
     "shell.execute_reply": "2024-03-15T21:08:36.764374Z"
    },
    "papermill": {
     "duration": 11.771142,
     "end_time": "2024-03-15T21:08:36.769084",
     "exception": false,
     "start_time": "2024-03-15T21:08:24.997942",
     "status": "completed"
    },
    "tags": []
   },
   "outputs": [],
   "source": [
    "df = pd.read_csv('/kaggle/input/santander-customer-transaction-prediction-dataset/train.csv')"
   ]
  },
  {
   "cell_type": "code",
   "execution_count": 3,
   "id": "447745da",
   "metadata": {
    "execution": {
     "iopub.execute_input": "2024-03-15T21:08:36.787067Z",
     "iopub.status.busy": "2024-03-15T21:08:36.786638Z",
     "iopub.status.idle": "2024-03-15T21:08:36.831476Z",
     "shell.execute_reply": "2024-03-15T21:08:36.830202Z"
    },
    "papermill": {
     "duration": 0.057168,
     "end_time": "2024-03-15T21:08:36.835192",
     "exception": false,
     "start_time": "2024-03-15T21:08:36.778024",
     "status": "completed"
    },
    "tags": []
   },
   "outputs": [
    {
     "data": {
      "text/html": [
       "<div>\n",
       "<style scoped>\n",
       "    .dataframe tbody tr th:only-of-type {\n",
       "        vertical-align: middle;\n",
       "    }\n",
       "\n",
       "    .dataframe tbody tr th {\n",
       "        vertical-align: top;\n",
       "    }\n",
       "\n",
       "    .dataframe thead th {\n",
       "        text-align: right;\n",
       "    }\n",
       "</style>\n",
       "<table border=\"1\" class=\"dataframe\">\n",
       "  <thead>\n",
       "    <tr style=\"text-align: right;\">\n",
       "      <th></th>\n",
       "      <th>ID_code</th>\n",
       "      <th>target</th>\n",
       "      <th>var_0</th>\n",
       "      <th>var_1</th>\n",
       "      <th>var_2</th>\n",
       "      <th>var_3</th>\n",
       "      <th>var_4</th>\n",
       "      <th>var_5</th>\n",
       "      <th>var_6</th>\n",
       "      <th>var_7</th>\n",
       "      <th>...</th>\n",
       "      <th>var_190</th>\n",
       "      <th>var_191</th>\n",
       "      <th>var_192</th>\n",
       "      <th>var_193</th>\n",
       "      <th>var_194</th>\n",
       "      <th>var_195</th>\n",
       "      <th>var_196</th>\n",
       "      <th>var_197</th>\n",
       "      <th>var_198</th>\n",
       "      <th>var_199</th>\n",
       "    </tr>\n",
       "  </thead>\n",
       "  <tbody>\n",
       "    <tr>\n",
       "      <th>0</th>\n",
       "      <td>train_0</td>\n",
       "      <td>0</td>\n",
       "      <td>8.9255</td>\n",
       "      <td>-6.7863</td>\n",
       "      <td>11.9081</td>\n",
       "      <td>5.0930</td>\n",
       "      <td>11.4607</td>\n",
       "      <td>-9.2834</td>\n",
       "      <td>5.1187</td>\n",
       "      <td>18.6266</td>\n",
       "      <td>...</td>\n",
       "      <td>4.4354</td>\n",
       "      <td>3.9642</td>\n",
       "      <td>3.1364</td>\n",
       "      <td>1.6910</td>\n",
       "      <td>18.5227</td>\n",
       "      <td>-2.3978</td>\n",
       "      <td>7.8784</td>\n",
       "      <td>8.5635</td>\n",
       "      <td>12.7803</td>\n",
       "      <td>-1.0914</td>\n",
       "    </tr>\n",
       "    <tr>\n",
       "      <th>1</th>\n",
       "      <td>train_1</td>\n",
       "      <td>0</td>\n",
       "      <td>11.5006</td>\n",
       "      <td>-4.1473</td>\n",
       "      <td>13.8588</td>\n",
       "      <td>5.3890</td>\n",
       "      <td>12.3622</td>\n",
       "      <td>7.0433</td>\n",
       "      <td>5.6208</td>\n",
       "      <td>16.5338</td>\n",
       "      <td>...</td>\n",
       "      <td>7.6421</td>\n",
       "      <td>7.7214</td>\n",
       "      <td>2.5837</td>\n",
       "      <td>10.9516</td>\n",
       "      <td>15.4305</td>\n",
       "      <td>2.0339</td>\n",
       "      <td>8.1267</td>\n",
       "      <td>8.7889</td>\n",
       "      <td>18.3560</td>\n",
       "      <td>1.9518</td>\n",
       "    </tr>\n",
       "    <tr>\n",
       "      <th>2</th>\n",
       "      <td>train_2</td>\n",
       "      <td>0</td>\n",
       "      <td>8.6093</td>\n",
       "      <td>-2.7457</td>\n",
       "      <td>12.0805</td>\n",
       "      <td>7.8928</td>\n",
       "      <td>10.5825</td>\n",
       "      <td>-9.0837</td>\n",
       "      <td>6.9427</td>\n",
       "      <td>14.6155</td>\n",
       "      <td>...</td>\n",
       "      <td>2.9057</td>\n",
       "      <td>9.7905</td>\n",
       "      <td>1.6704</td>\n",
       "      <td>1.6858</td>\n",
       "      <td>21.6042</td>\n",
       "      <td>3.1417</td>\n",
       "      <td>-6.5213</td>\n",
       "      <td>8.2675</td>\n",
       "      <td>14.7222</td>\n",
       "      <td>0.3965</td>\n",
       "    </tr>\n",
       "    <tr>\n",
       "      <th>3</th>\n",
       "      <td>train_3</td>\n",
       "      <td>0</td>\n",
       "      <td>11.0604</td>\n",
       "      <td>-2.1518</td>\n",
       "      <td>8.9522</td>\n",
       "      <td>7.1957</td>\n",
       "      <td>12.5846</td>\n",
       "      <td>-1.8361</td>\n",
       "      <td>5.8428</td>\n",
       "      <td>14.9250</td>\n",
       "      <td>...</td>\n",
       "      <td>4.4666</td>\n",
       "      <td>4.7433</td>\n",
       "      <td>0.7178</td>\n",
       "      <td>1.4214</td>\n",
       "      <td>23.0347</td>\n",
       "      <td>-1.2706</td>\n",
       "      <td>-2.9275</td>\n",
       "      <td>10.2922</td>\n",
       "      <td>17.9697</td>\n",
       "      <td>-8.9996</td>\n",
       "    </tr>\n",
       "    <tr>\n",
       "      <th>4</th>\n",
       "      <td>train_4</td>\n",
       "      <td>0</td>\n",
       "      <td>9.8369</td>\n",
       "      <td>-1.4834</td>\n",
       "      <td>12.8746</td>\n",
       "      <td>6.6375</td>\n",
       "      <td>12.2772</td>\n",
       "      <td>2.4486</td>\n",
       "      <td>5.9405</td>\n",
       "      <td>19.2514</td>\n",
       "      <td>...</td>\n",
       "      <td>-1.4905</td>\n",
       "      <td>9.5214</td>\n",
       "      <td>-0.1508</td>\n",
       "      <td>9.1942</td>\n",
       "      <td>13.2876</td>\n",
       "      <td>-1.5121</td>\n",
       "      <td>3.9267</td>\n",
       "      <td>9.5031</td>\n",
       "      <td>17.9974</td>\n",
       "      <td>-8.8104</td>\n",
       "    </tr>\n",
       "  </tbody>\n",
       "</table>\n",
       "<p>5 rows × 202 columns</p>\n",
       "</div>"
      ],
      "text/plain": [
       "   ID_code  target    var_0   var_1    var_2   var_3    var_4   var_5   var_6  \\\n",
       "0  train_0       0   8.9255 -6.7863  11.9081  5.0930  11.4607 -9.2834  5.1187   \n",
       "1  train_1       0  11.5006 -4.1473  13.8588  5.3890  12.3622  7.0433  5.6208   \n",
       "2  train_2       0   8.6093 -2.7457  12.0805  7.8928  10.5825 -9.0837  6.9427   \n",
       "3  train_3       0  11.0604 -2.1518   8.9522  7.1957  12.5846 -1.8361  5.8428   \n",
       "4  train_4       0   9.8369 -1.4834  12.8746  6.6375  12.2772  2.4486  5.9405   \n",
       "\n",
       "     var_7  ...  var_190  var_191  var_192  var_193  var_194  var_195  \\\n",
       "0  18.6266  ...   4.4354   3.9642   3.1364   1.6910  18.5227  -2.3978   \n",
       "1  16.5338  ...   7.6421   7.7214   2.5837  10.9516  15.4305   2.0339   \n",
       "2  14.6155  ...   2.9057   9.7905   1.6704   1.6858  21.6042   3.1417   \n",
       "3  14.9250  ...   4.4666   4.7433   0.7178   1.4214  23.0347  -1.2706   \n",
       "4  19.2514  ...  -1.4905   9.5214  -0.1508   9.1942  13.2876  -1.5121   \n",
       "\n",
       "   var_196  var_197  var_198  var_199  \n",
       "0   7.8784   8.5635  12.7803  -1.0914  \n",
       "1   8.1267   8.7889  18.3560   1.9518  \n",
       "2  -6.5213   8.2675  14.7222   0.3965  \n",
       "3  -2.9275  10.2922  17.9697  -8.9996  \n",
       "4   3.9267   9.5031  17.9974  -8.8104  \n",
       "\n",
       "[5 rows x 202 columns]"
      ]
     },
     "execution_count": 3,
     "metadata": {},
     "output_type": "execute_result"
    }
   ],
   "source": [
    "df.head()"
   ]
  },
  {
   "cell_type": "code",
   "execution_count": 4,
   "id": "f6c7d296",
   "metadata": {
    "execution": {
     "iopub.execute_input": "2024-03-15T21:08:36.855636Z",
     "iopub.status.busy": "2024-03-15T21:08:36.854955Z",
     "iopub.status.idle": "2024-03-15T21:08:36.861135Z",
     "shell.execute_reply": "2024-03-15T21:08:36.860217Z"
    },
    "papermill": {
     "duration": 0.019394,
     "end_time": "2024-03-15T21:08:36.864027",
     "exception": false,
     "start_time": "2024-03-15T21:08:36.844633",
     "status": "completed"
    },
    "tags": []
   },
   "outputs": [
    {
     "data": {
      "text/plain": [
       "(200000, 202)"
      ]
     },
     "execution_count": 4,
     "metadata": {},
     "output_type": "execute_result"
    }
   ],
   "source": [
    "df.shape"
   ]
  },
  {
   "cell_type": "markdown",
   "id": "c4b885b3",
   "metadata": {
    "papermill": {
     "duration": 0.009134,
     "end_time": "2024-03-15T21:08:36.882595",
     "exception": false,
     "start_time": "2024-03-15T21:08:36.873461",
     "status": "completed"
    },
    "tags": []
   },
   "source": [
    "### Now we have to find and separate the variable columns"
   ]
  },
  {
   "cell_type": "code",
   "execution_count": 5,
   "id": "44c6a9e7",
   "metadata": {
    "execution": {
     "iopub.execute_input": "2024-03-15T21:08:36.898464Z",
     "iopub.status.busy": "2024-03-15T21:08:36.898071Z",
     "iopub.status.idle": "2024-03-15T21:08:36.905919Z",
     "shell.execute_reply": "2024-03-15T21:08:36.904792Z"
    },
    "papermill": {
     "duration": 0.018659,
     "end_time": "2024-03-15T21:08:36.908233",
     "exception": false,
     "start_time": "2024-03-15T21:08:36.889574",
     "status": "completed"
    },
    "tags": []
   },
   "outputs": [
    {
     "data": {
      "text/plain": [
       "200"
      ]
     },
     "execution_count": 5,
     "metadata": {},
     "output_type": "execute_result"
    }
   ],
   "source": [
    "var_cols = [x for x in df.columns if x not in ['ID_code','target']]\n",
    "len(var_cols)"
   ]
  },
  {
   "cell_type": "markdown",
   "id": "5dabbed5",
   "metadata": {
    "papermill": {
     "duration": 0.007294,
     "end_time": "2024-03-15T21:08:36.922538",
     "exception": false,
     "start_time": "2024-03-15T21:08:36.915244",
     "status": "completed"
    },
    "tags": []
   },
   "source": [
    "##### Notice that the shape of var_cols (which stores all the input columns) has 2 less columns.\n",
    "\n",
    "##### We now split the dataset into inputs and output"
   ]
  },
  {
   "cell_type": "code",
   "execution_count": 6,
   "id": "5cee13e2",
   "metadata": {
    "execution": {
     "iopub.execute_input": "2024-03-15T21:08:36.938063Z",
     "iopub.status.busy": "2024-03-15T21:08:36.937687Z",
     "iopub.status.idle": "2024-03-15T21:08:37.098688Z",
     "shell.execute_reply": "2024-03-15T21:08:37.097357Z"
    },
    "papermill": {
     "duration": 0.172714,
     "end_time": "2024-03-15T21:08:37.102229",
     "exception": false,
     "start_time": "2024-03-15T21:08:36.929515",
     "status": "completed"
    },
    "tags": []
   },
   "outputs": [],
   "source": [
    "X = df.loc[:,var_cols]\n",
    "y = df.iloc[:,1]"
   ]
  },
  {
   "cell_type": "markdown",
   "id": "3e1cc089",
   "metadata": {
    "papermill": {
     "duration": 0.009085,
     "end_time": "2024-03-15T21:08:37.121520",
     "exception": false,
     "start_time": "2024-03-15T21:08:37.112435",
     "status": "completed"
    },
    "tags": []
   },
   "source": [
    "##### Next step is to split the data into training and validation set"
   ]
  },
  {
   "cell_type": "code",
   "execution_count": 7,
   "id": "821eac43",
   "metadata": {
    "execution": {
     "iopub.execute_input": "2024-03-15T21:08:37.137529Z",
     "iopub.status.busy": "2024-03-15T21:08:37.137111Z",
     "iopub.status.idle": "2024-03-15T21:08:39.062957Z",
     "shell.execute_reply": "2024-03-15T21:08:39.061719Z"
    },
    "papermill": {
     "duration": 1.936778,
     "end_time": "2024-03-15T21:08:39.065479",
     "exception": false,
     "start_time": "2024-03-15T21:08:37.128701",
     "status": "completed"
    },
    "tags": []
   },
   "outputs": [
    {
     "data": {
      "text/plain": [
       "((160000, 200), (40000, 200), (160000,), (40000,))"
      ]
     },
     "execution_count": 7,
     "metadata": {},
     "output_type": "execute_result"
    }
   ],
   "source": [
    "from sklearn.model_selection import train_test_split\n",
    "\n",
    "X_train, X_test, y_train, y_test = train_test_split(X,y,test_size=0.2, random_state=13)\n",
    "X_train.shape, X_test.shape, y_train.shape, y_test.shape"
   ]
  },
  {
   "cell_type": "markdown",
   "id": "d828e3c5",
   "metadata": {
    "papermill": {
     "duration": 0.006923,
     "end_time": "2024-03-15T21:08:39.079617",
     "exception": false,
     "start_time": "2024-03-15T21:08:39.072694",
     "status": "completed"
    },
    "tags": []
   },
   "source": [
    "##### Following action would be to fit the LightGBM model"
   ]
  },
  {
   "cell_type": "code",
   "execution_count": 8,
   "id": "4803bb03",
   "metadata": {
    "execution": {
     "iopub.execute_input": "2024-03-15T21:08:39.096049Z",
     "iopub.status.busy": "2024-03-15T21:08:39.095619Z",
     "iopub.status.idle": "2024-03-15T21:08:40.194203Z",
     "shell.execute_reply": "2024-03-15T21:08:40.193067Z"
    },
    "papermill": {
     "duration": 1.110453,
     "end_time": "2024-03-15T21:08:40.197280",
     "exception": false,
     "start_time": "2024-03-15T21:08:39.086827",
     "status": "completed"
    },
    "tags": []
   },
   "outputs": [],
   "source": [
    "import lightgbm\n",
    "\n",
    "train_set = lightgbm.Dataset(X_train,label=y_train)\n",
    "valid_set = lightgbm.Dataset(X_test,label=y_test)"
   ]
  },
  {
   "cell_type": "markdown",
   "id": "37321141",
   "metadata": {
    "papermill": {
     "duration": 0.007054,
     "end_time": "2024-03-15T21:08:40.211617",
     "exception": false,
     "start_time": "2024-03-15T21:08:40.204563",
     "status": "completed"
    },
    "tags": []
   },
   "source": [
    "##### Next course of action would be to specify parameters"
   ]
  },
  {
   "cell_type": "code",
   "execution_count": 9,
   "id": "986a3a4b",
   "metadata": {
    "execution": {
     "iopub.execute_input": "2024-03-15T21:08:40.228145Z",
     "iopub.status.busy": "2024-03-15T21:08:40.227498Z",
     "iopub.status.idle": "2024-03-15T21:08:40.234520Z",
     "shell.execute_reply": "2024-03-15T21:08:40.233345Z"
    },
    "papermill": {
     "duration": 0.018166,
     "end_time": "2024-03-15T21:08:40.237026",
     "exception": false,
     "start_time": "2024-03-15T21:08:40.218860",
     "status": "completed"
    },
    "tags": []
   },
   "outputs": [],
   "source": [
    "params = {'objective':'binary',\n",
    "          'metric':'auc',\n",
    "          'is_unbalance':'true',\n",
    "          'boosting':'gbdt',\n",
    "          'num_leaves':63,\n",
    "          'feature_fraction':0.5,\n",
    "          'bagging_fraction':0.5,\n",
    "          'bagging_freq':20,\n",
    "          'learning_rate':0.01,\n",
    "          'verbose':-1,\n",
    "          'num_boost_round':1000,\n",
    "          'early_stopping_rounds':10}"
   ]
  },
  {
   "cell_type": "code",
   "execution_count": 10,
   "id": "8d3b77d5",
   "metadata": {
    "execution": {
     "iopub.execute_input": "2024-03-15T21:08:40.254792Z",
     "iopub.status.busy": "2024-03-15T21:08:40.253645Z",
     "iopub.status.idle": "2024-03-15T21:10:20.362334Z",
     "shell.execute_reply": "2024-03-15T21:10:20.361426Z"
    },
    "papermill": {
     "duration": 100.120528,
     "end_time": "2024-03-15T21:10:20.365178",
     "exception": false,
     "start_time": "2024-03-15T21:08:40.244650",
     "status": "completed"
    },
    "tags": []
   },
   "outputs": [
    {
     "name": "stderr",
     "output_type": "stream",
     "text": [
      "/opt/conda/lib/python3.10/site-packages/lightgbm/engine.py:172: UserWarning: Found `num_boost_round` in params. Will use it instead of argument\n",
      "  _log_warning(f\"Found `{alias}` in params. Will use it instead of argument\")\n"
     ]
    }
   ],
   "source": [
    "model = lightgbm.train(params,\n",
    "                       train_set,\n",
    "                       valid_sets=valid_set)"
   ]
  },
  {
   "cell_type": "code",
   "execution_count": 11,
   "id": "9d936e63",
   "metadata": {
    "execution": {
     "iopub.execute_input": "2024-03-15T21:10:20.382288Z",
     "iopub.status.busy": "2024-03-15T21:10:20.381537Z",
     "iopub.status.idle": "2024-03-15T21:10:31.005257Z",
     "shell.execute_reply": "2024-03-15T21:10:31.004159Z"
    },
    "papermill": {
     "duration": 10.635398,
     "end_time": "2024-03-15T21:10:31.008070",
     "exception": false,
     "start_time": "2024-03-15T21:10:20.372672",
     "status": "completed"
    },
    "tags": []
   },
   "outputs": [
    {
     "name": "stdout",
     "output_type": "stream",
     "text": [
      "AUC Train: 0.9612\n",
      "AUC Valid: 0.8888\n"
     ]
    }
   ],
   "source": [
    "y_train_pred = model.predict(X_train)\n",
    "y_test_pred = model.predict(X_test)\n",
    "\n",
    "\n",
    "from sklearn.metrics import roc_auc_score\n",
    "print(\"AUC Train: {:.4f}\\nAUC Valid: {:.4f}\".format(roc_auc_score(y_train, y_train_pred),\n",
    "                                                    roc_auc_score(y_test, y_test_pred)))"
   ]
  },
  {
   "cell_type": "code",
   "execution_count": null,
   "id": "e97ac951",
   "metadata": {
    "papermill": {
     "duration": 0.007175,
     "end_time": "2024-03-15T21:10:31.023289",
     "exception": false,
     "start_time": "2024-03-15T21:10:31.016114",
     "status": "completed"
    },
    "tags": []
   },
   "outputs": [],
   "source": []
  },
  {
   "cell_type": "code",
   "execution_count": null,
   "id": "72e12a8b",
   "metadata": {
    "papermill": {
     "duration": 0.00706,
     "end_time": "2024-03-15T21:10:31.038001",
     "exception": false,
     "start_time": "2024-03-15T21:10:31.030941",
     "status": "completed"
    },
    "tags": []
   },
   "outputs": [],
   "source": []
  }
 ],
 "metadata": {
  "kaggle": {
   "accelerator": "none",
   "dataSources": [
    {
     "datasetId": 203145,
     "sourceId": 446644,
     "sourceType": "datasetVersion"
    }
   ],
   "dockerImageVersionId": 30664,
   "isGpuEnabled": false,
   "isInternetEnabled": true,
   "language": "python",
   "sourceType": "notebook"
  },
  "kernelspec": {
   "display_name": "Python 3 (ipykernel)",
   "language": "python",
   "name": "python3"
  },
  "language_info": {
   "codemirror_mode": {
    "name": "ipython",
    "version": 3
   },
   "file_extension": ".py",
   "mimetype": "text/x-python",
   "name": "python",
   "nbconvert_exporter": "python",
   "pygments_lexer": "ipython3",
   "version": "3.10.6"
  },
  "papermill": {
   "default_parameters": {},
   "duration": 131.382173,
   "end_time": "2024-03-15T21:10:31.867718",
   "environment_variables": {},
   "exception": null,
   "input_path": "__notebook__.ipynb",
   "output_path": "__notebook__.ipynb",
   "parameters": {},
   "start_time": "2024-03-15T21:08:20.485545",
   "version": "2.5.0"
  }
 },
 "nbformat": 4,
 "nbformat_minor": 5
}
